{
 "cells": [
  {
   "cell_type": "markdown",
   "metadata": {},
   "source": [
    "1. Data Processing"
   ]
  },
  {
   "cell_type": "code",
   "execution_count": null,
   "metadata": {},
   "outputs": [],
   "source": [
    "import pandas as pd\n",
    "import numpy as np\n",
    "adult_df = pd.read_csv('https://archive.ics.uci.edu/ml/machine-learning-databases/adult/adult.data', header = None, skipinitialspace=True)"
   ]
  },
  {
   "cell_type": "code",
   "execution_count": 3,
   "metadata": {},
   "outputs": [],
   "source": [
    "list_of_columns = [\"age\", \"workclass\", \"fnlwgt\", \"education\", \"education-num\", \"marital-status\", \"occupation\", \"relationship\", \"race\", \"sex\", \"capital-gain\", \"capital-loss\", \"hours-per-week\", \"native-country\", \"salary\"]\n",
    "adult_df.columns = list_of_columns\n",
    "adult_df.shape"
   ]
  },
  {
   "cell_type": "code",
   "execution_count": 7,
   "metadata": {},
   "outputs": [
    {
     "name": "stderr",
     "output_type": "stream",
     "text": [
      "//anaconda3/lib/python3.7/site-packages/pandas/core/generic.py:5096: SettingWithCopyWarning: \n",
      "A value is trying to be set on a copy of a slice from a DataFrame.\n",
      "Try using .loc[row_indexer,col_indexer] = value instead\n",
      "\n",
      "See the caveats in the documentation: http://pandas.pydata.org/pandas-docs/stable/indexing.html#indexing-view-versus-copy\n",
      "  self[name] = value\n"
     ]
    }
   ],
   "source": [
    "#adult_df = adult_df.loc[:, adult_df.columns != 'fnlwgt']\n",
    "adult_df.salary = adult_df.salary.replace(to_replace=[\"<=50K\" , \">50K\"], value=[0, 1])"
   ]
  },
  {
   "cell_type": "code",
   "execution_count": 9,
   "metadata": {},
   "outputs": [
    {
     "data": {
      "text/html": [
       "<div>\n",
       "<style scoped>\n",
       "    .dataframe tbody tr th:only-of-type {\n",
       "        vertical-align: middle;\n",
       "    }\n",
       "\n",
       "    .dataframe tbody tr th {\n",
       "        vertical-align: top;\n",
       "    }\n",
       "\n",
       "    .dataframe thead th {\n",
       "        text-align: right;\n",
       "    }\n",
       "</style>\n",
       "<table border=\"1\" class=\"dataframe\">\n",
       "  <thead>\n",
       "    <tr style=\"text-align: right;\">\n",
       "      <th></th>\n",
       "      <th>age</th>\n",
       "      <th>workclass</th>\n",
       "      <th>education</th>\n",
       "      <th>education-num</th>\n",
       "      <th>marital-status</th>\n",
       "      <th>occupation</th>\n",
       "      <th>relationship</th>\n",
       "      <th>race</th>\n",
       "      <th>sex</th>\n",
       "      <th>capital-gain</th>\n",
       "      <th>capital-loss</th>\n",
       "      <th>hours-per-week</th>\n",
       "      <th>native-country</th>\n",
       "      <th>salary</th>\n",
       "    </tr>\n",
       "  </thead>\n",
       "  <tbody>\n",
       "    <tr>\n",
       "      <th>0</th>\n",
       "      <td>39</td>\n",
       "      <td>State-gov</td>\n",
       "      <td>Bachelors</td>\n",
       "      <td>13</td>\n",
       "      <td>Never-married</td>\n",
       "      <td>Adm-clerical</td>\n",
       "      <td>Not-in-family</td>\n",
       "      <td>White</td>\n",
       "      <td>Male</td>\n",
       "      <td>2174</td>\n",
       "      <td>0</td>\n",
       "      <td>40</td>\n",
       "      <td>United-States</td>\n",
       "      <td>0</td>\n",
       "    </tr>\n",
       "    <tr>\n",
       "      <th>1</th>\n",
       "      <td>50</td>\n",
       "      <td>Self-emp-not-inc</td>\n",
       "      <td>Bachelors</td>\n",
       "      <td>13</td>\n",
       "      <td>Married-civ-spouse</td>\n",
       "      <td>Exec-managerial</td>\n",
       "      <td>Husband</td>\n",
       "      <td>White</td>\n",
       "      <td>Male</td>\n",
       "      <td>0</td>\n",
       "      <td>0</td>\n",
       "      <td>13</td>\n",
       "      <td>United-States</td>\n",
       "      <td>0</td>\n",
       "    </tr>\n",
       "    <tr>\n",
       "      <th>2</th>\n",
       "      <td>38</td>\n",
       "      <td>Private</td>\n",
       "      <td>HS-grad</td>\n",
       "      <td>9</td>\n",
       "      <td>Divorced</td>\n",
       "      <td>Handlers-cleaners</td>\n",
       "      <td>Not-in-family</td>\n",
       "      <td>White</td>\n",
       "      <td>Male</td>\n",
       "      <td>0</td>\n",
       "      <td>0</td>\n",
       "      <td>40</td>\n",
       "      <td>United-States</td>\n",
       "      <td>0</td>\n",
       "    </tr>\n",
       "    <tr>\n",
       "      <th>3</th>\n",
       "      <td>53</td>\n",
       "      <td>Private</td>\n",
       "      <td>11th</td>\n",
       "      <td>7</td>\n",
       "      <td>Married-civ-spouse</td>\n",
       "      <td>Handlers-cleaners</td>\n",
       "      <td>Husband</td>\n",
       "      <td>Black</td>\n",
       "      <td>Male</td>\n",
       "      <td>0</td>\n",
       "      <td>0</td>\n",
       "      <td>40</td>\n",
       "      <td>United-States</td>\n",
       "      <td>0</td>\n",
       "    </tr>\n",
       "    <tr>\n",
       "      <th>4</th>\n",
       "      <td>28</td>\n",
       "      <td>Private</td>\n",
       "      <td>Bachelors</td>\n",
       "      <td>13</td>\n",
       "      <td>Married-civ-spouse</td>\n",
       "      <td>Prof-specialty</td>\n",
       "      <td>Wife</td>\n",
       "      <td>Black</td>\n",
       "      <td>Female</td>\n",
       "      <td>0</td>\n",
       "      <td>0</td>\n",
       "      <td>40</td>\n",
       "      <td>Cuba</td>\n",
       "      <td>0</td>\n",
       "    </tr>\n",
       "  </tbody>\n",
       "</table>\n",
       "</div>"
      ],
      "text/plain": [
       "   age         workclass  education  education-num      marital-status  \\\n",
       "0   39         State-gov  Bachelors             13       Never-married   \n",
       "1   50  Self-emp-not-inc  Bachelors             13  Married-civ-spouse   \n",
       "2   38           Private    HS-grad              9            Divorced   \n",
       "3   53           Private       11th              7  Married-civ-spouse   \n",
       "4   28           Private  Bachelors             13  Married-civ-spouse   \n",
       "\n",
       "          occupation   relationship   race     sex  capital-gain  \\\n",
       "0       Adm-clerical  Not-in-family  White    Male          2174   \n",
       "1    Exec-managerial        Husband  White    Male             0   \n",
       "2  Handlers-cleaners  Not-in-family  White    Male             0   \n",
       "3  Handlers-cleaners        Husband  Black    Male             0   \n",
       "4     Prof-specialty           Wife  Black  Female             0   \n",
       "\n",
       "   capital-loss  hours-per-week native-country  salary  \n",
       "0             0              40  United-States       0  \n",
       "1             0              13  United-States       0  \n",
       "2             0              40  United-States       0  \n",
       "3             0              40  United-States       0  \n",
       "4             0              40           Cuba       0  "
      ]
     },
     "execution_count": 9,
     "metadata": {},
     "output_type": "execute_result"
    }
   ],
   "source": [
    "adult_df.head(5)"
   ]
  },
  {
   "cell_type": "code",
   "execution_count": 14,
   "metadata": {},
   "outputs": [
    {
     "name": "stdout",
     "output_type": "stream",
     "text": [
      "y shape (32561,)\n",
      "x shape (32561, 13)\n"
     ]
    }
   ],
   "source": [
    "y = adult_df[\"salary\"]\n",
    "print('y shape', y.shape)\n",
    "X = adult_df.loc[:, adult_df.columns != 'salary']\n",
    "print('x shape', X.shape)"
   ]
  },
  {
   "cell_type": "code",
   "execution_count": 15,
   "metadata": {},
   "outputs": [
    {
     "data": {
      "text/plain": [
       "(32561, 107)"
      ]
     },
     "execution_count": 15,
     "metadata": {},
     "output_type": "execute_result"
    }
   ],
   "source": [
    "X_encoded = pd.get_dummies(X)\n",
    "X_encoded.shape"
   ]
  },
  {
   "cell_type": "code",
   "execution_count": 16,
   "metadata": {},
   "outputs": [
    {
     "name": "stdout",
     "output_type": "stream",
     "text": [
      "y_train shape (22792,)\n",
      "y_test shape (9769,)\n",
      "x_train shape (22792, 107)\n",
      "x_test shape (9769, 107)\n"
     ]
    }
   ],
   "source": [
    "from sklearn.model_selection import train_test_split\n",
    "X_train, X_test, y_train, y_test = train_test_split(X_encoded, y, test_size=0.3, random_state=101)\n",
    "print('y_train shape', y_train.shape)\n",
    "print('y_test shape', y_test.shape)\n",
    "print('x_train shape', X_train.shape)\n",
    "print('x_test shape', X_test.shape)\n"
   ]
  },
  {
   "cell_type": "markdown",
   "metadata": {},
   "source": [
    "2. Random Forest Classifier - Base Model:"
   ]
  },
  {
   "cell_type": "code",
   "execution_count": 17,
   "metadata": {},
   "outputs": [],
   "source": [
    "from sklearn.ensemble import RandomForestClassifier\n",
    "from sklearn import metrics as skm\n",
    "\n",
    "rf = RandomForestClassifier()\n",
    "rf.fit(X_train, y_train)\n",
    "\n",
    "y_train_pred_rf = rf.predict(X_train)\n",
    "y_test_pred_rf = rf.predict(X_test)\n",
    "y_train_predprob_rf = rf.predict_proba(X_train) \n",
    "y_test_predprob_rf = rf.predict_proba(X_test) "
   ]
  },
  {
   "cell_type": "code",
   "execution_count": 18,
   "metadata": {},
   "outputs": [
    {
     "name": "stdout",
     "output_type": "stream",
     "text": [
      "Random Forest Training Confusion Matrix\n",
      "[[17126   158]\n",
      " [  299  5209]]\n",
      "\n",
      "Random Forest Training Classification Report\n",
      "              precision    recall  f1-score   support\n",
      "\n",
      "           0       0.98      0.99      0.99     17284\n",
      "           1       0.97      0.95      0.96      5508\n",
      "\n",
      "    accuracy                           0.98     22792\n",
      "   macro avg       0.98      0.97      0.97     22792\n",
      "weighted avg       0.98      0.98      0.98     22792\n",
      "\n",
      "\n",
      "Test ROC AUC: 0.9978189925759876\n"
     ]
    }
   ],
   "source": [
    "print(\"Random Forest Training Confusion Matrix\")\n",
    "print(skm.confusion_matrix(y_train, y_train_pred_rf))\n",
    "print(\"\\nRandom Forest Training Classification Report\")\n",
    "print(skm.classification_report(y_train, y_train_pred_rf))\n",
    "print(\"\\nTest ROC AUC:\", skm.roc_auc_score(y_train, y_train_predprob_rf[:,1]))"
   ]
  },
  {
   "cell_type": "code",
   "execution_count": 19,
   "metadata": {},
   "outputs": [
    {
     "name": "stdout",
     "output_type": "stream",
     "text": [
      "Random Forest Test Confusion Matrix\n",
      "[[6843  593]\n",
      " [ 862 1471]]\n",
      "\n",
      "Random Forest Test Classification Report\n",
      "              precision    recall  f1-score   support\n",
      "\n",
      "           0       0.89      0.92      0.90      7436\n",
      "           1       0.71      0.63      0.67      2333\n",
      "\n",
      "    accuracy                           0.85      9769\n",
      "   macro avg       0.80      0.78      0.79      9769\n",
      "weighted avg       0.85      0.85      0.85      9769\n",
      "\n",
      "\n",
      "Test ROC AUC: 0.8934414937168078\n"
     ]
    }
   ],
   "source": [
    "print(\"Random Forest Test Confusion Matrix\")\n",
    "print(skm.confusion_matrix(y_test, y_test_pred_rf))\n",
    "print(\"\\nRandom Forest Test Classification Report\")\n",
    "print(skm.classification_report(y_test, y_test_pred_rf))\n",
    "print(\"\\nTest ROC AUC:\", skm.roc_auc_score(y_test, y_test_predprob_rf[:,1]))"
   ]
  },
  {
   "cell_type": "code",
   "execution_count": 23,
   "metadata": {},
   "outputs": [
    {
     "data": {
      "text/plain": [
       "<matplotlib.axes._subplots.AxesSubplot at 0x1a28357198>"
      ]
     },
     "execution_count": 23,
     "metadata": {},
     "output_type": "execute_result"
    },
    {
     "data": {
      "image/png": "[encoded data removed]",
      "text/plain": [
       "<Figure size 432x288 with 1 Axes>"
      ]
     },
     "metadata": {
      "needs_background": "light"
     },
     "output_type": "display_data"
    }
   ],
   "source": [
    "fi_rf = pd.DataFrame({'features': X_train.columns, 'importance': rf.feature_importances_})\n",
    "fi_rf.sort_values('importance', ascending=False, inplace=True)\n",
    "fi_rf.iloc[:5,].plot.bar(x='features', y='importance')"
   ]
  },
  {
   "cell_type": "markdown",
   "metadata": {},
   "source": [
    "f) Using the model from part B, predict for the train data. Look at the classification report for the train data - is there overfitting for the RandomForest model happening?\n",
    "\n",
    "Answer: There are signs of overfitting. First, the training ROC AUC score for trainning is extremely high (0.9978), which is an sign of overfitting. Further, the trianing precision, recall, accuracy and ROC AUC scores are very high (all in the high 90s%) while the testing precision, recall accuracy and ROC AUC scores are relatively lower (especially for class 1 (salary >50K) are in the low 70%), which is an indication that the model fits very well with the training data but not so well with the testing data (overfitting)."
   ]
  },
  {
   "cell_type": "markdown",
   "metadata": {},
   "source": [
    "3. AdaBoost Classifier - GridSearch:"
   ]
  },
  {
   "cell_type": "code",
   "execution_count": 26,
   "metadata": {},
   "outputs": [
    {
     "name": "stdout",
     "output_type": "stream",
     "text": [
      "Fitting 5 folds for each of 24 candidates, totalling 120 fits\n"
     ]
    },
    {
     "name": "stderr",
     "output_type": "stream",
     "text": [
      "[Parallel(n_jobs=-1)]: Using backend LokyBackend with 4 concurrent workers.\n",
      "[Parallel(n_jobs=-1)]: Done  10 tasks      | elapsed:   36.3s\n",
      "[Parallel(n_jobs=-1)]: Done  64 tasks      | elapsed:  3.8min\n",
      "[Parallel(n_jobs=-1)]: Done 120 out of 120 | elapsed:  7.1min finished\n"
     ]
    },
    {
     "data": {
      "text/plain": [
       "GridSearchCV(cv=5, error_score=nan,\n",
       "             estimator=AdaBoostClassifier(algorithm='SAMME.R',\n",
       "                                          base_estimator=None,\n",
       "                                          learning_rate=1.0, n_estimators=50,\n",
       "                                          random_state=None),\n",
       "             iid='deprecated', n_jobs=-1,\n",
       "             param_grid={'learning_rate': [0.2, 0.4, 0.6, 0.8, 1, 1.2],\n",
       "                         'n_estimators': [100, 200, 300, 400],\n",
       "                         'random_state': [101]},\n",
       "             pre_dispatch='2*n_jobs', refit=True, return_train_score=False,\n",
       "             scoring='roc_auc', verbose=5)"
      ]
     },
     "execution_count": 26,
     "metadata": {},
     "output_type": "execute_result"
    }
   ],
   "source": [
    "from sklearn.ensemble import AdaBoostClassifier\n",
    "from sklearn.model_selection import GridSearchCV\n",
    "\n",
    "#create a dictionary of parameters \n",
    "param_grid = {\n",
    "'n_estimators':[100, 200, 300, 400],\n",
    "'learning_rate':[0.2,0.4,0.6,0.8,1, 1.2],\n",
    "'random_state':[101]}\n",
    "\n",
    "abc_obj=AdaBoostClassifier()\n",
    "\n",
    "# Create gridsearch object with various combinations of parameters\n",
    "abc_Grid = GridSearchCV(abc_obj, param_grid, cv = 5, scoring = 'roc_auc',refit = True, n_jobs=-1, verbose = 5)\n",
    "\n",
    "abc_Grid.fit(X_train, y_train)"
   ]
  },
  {
   "cell_type": "code",
   "execution_count": 27,
   "metadata": {},
   "outputs": [
    {
     "data": {
      "text/plain": [
       "AdaBoostClassifier(algorithm='SAMME.R', base_estimator=None, learning_rate=1.2,\n",
       "                   n_estimators=400, random_state=101)"
      ]
     },
     "execution_count": 27,
     "metadata": {},
     "output_type": "execute_result"
    }
   ],
   "source": [
    "abc_Grid.best_estimator_"
   ]
  },
  {
   "cell_type": "code",
   "execution_count": 28,
   "metadata": {},
   "outputs": [],
   "source": [
    "abc = abc_Grid.best_estimator_\n",
    "\n",
    "y_train_pred_abc = abc.predict(X_train)\n",
    "y_test_pred_abc = abc.predict(X_test)\n",
    "\n",
    "y_train_predprob_abc = abc.predict_proba(X_train)\n",
    "y_test_predprob_abc = abc.predict_proba(X_test)"
   ]
  },
  {
   "cell_type": "code",
   "execution_count": 29,
   "metadata": {},
   "outputs": [
    {
     "name": "stdout",
     "output_type": "stream",
     "text": [
      "AdaBoost Classifier Training Confusion Matrix\n",
      "[[16276  1008]\n",
      " [ 1903  3605]]\n",
      "\n",
      "AdaBoost Classifier Training Classification Report\n",
      "              precision    recall  f1-score   support\n",
      "\n",
      "           0       0.90      0.94      0.92     17284\n",
      "           1       0.78      0.65      0.71      5508\n",
      "\n",
      "    accuracy                           0.87     22792\n",
      "   macro avg       0.84      0.80      0.82     22792\n",
      "weighted avg       0.87      0.87      0.87     22792\n",
      "\n",
      "\n",
      "AdaBoost Classifier Training ROC AUC: 0.9305267321084966\n"
     ]
    }
   ],
   "source": [
    "print(\"AdaBoost Classifier Training Confusion Matrix\")\n",
    "print(skm.confusion_matrix(y_train, y_train_pred_abc))\n",
    "print(\"\\nAdaBoost Classifier Training Classification Report\")\n",
    "print(skm.classification_report(y_train, y_train_pred_abc))\n",
    "print(\"\\nAdaBoost Classifier Training ROC AUC:\", skm.roc_auc_score(y_train, y_train_predprob_abc[:,1]))\n"
   ]
  },
  {
   "cell_type": "code",
   "execution_count": 30,
   "metadata": {},
   "outputs": [
    {
     "name": "stdout",
     "output_type": "stream",
     "text": [
      "AdaBoost Classifier Testing Confusion Matrix\n",
      "[[6991  445]\n",
      " [ 810 1523]]\n",
      "\n",
      "AdaBoost Classifier Testing Classification Report\n",
      "              precision    recall  f1-score   support\n",
      "\n",
      "           0       0.90      0.94      0.92      7436\n",
      "           1       0.77      0.65      0.71      2333\n",
      "\n",
      "    accuracy                           0.87      9769\n",
      "   macro avg       0.84      0.80      0.81      9769\n",
      "weighted avg       0.87      0.87      0.87      9769\n",
      "\n",
      "\n",
      "AdaBoost Classifier Testing ROC AUC: 0.9276982414532284\n"
     ]
    }
   ],
   "source": [
    "print(\"AdaBoost Classifier Testing Confusion Matrix\")\n",
    "print(skm.confusion_matrix(y_test, y_test_pred_abc))\n",
    "print(\"\\nAdaBoost Classifier Testing Classification Report\")\n",
    "print(skm.classification_report(y_test, y_test_pred_abc))\n",
    "print(\"\\nAdaBoost Classifier Testing ROC AUC:\", skm.roc_auc_score(y_test, y_test_predprob_abc[:,1]))\n"
   ]
  },
  {
   "cell_type": "code",
   "execution_count": 31,
   "metadata": {},
   "outputs": [
    {
     "data": {
      "text/plain": [
       "<matplotlib.axes._subplots.AxesSubplot at 0x1a28c13208>"
      ]
     },
     "execution_count": 31,
     "metadata": {},
     "output_type": "execute_result"
    },
    {
     "data": {
      "image/png": "[encoded data removed]",
      "text/plain": [
       "<Figure size 432x288 with 1 Axes>"
      ]
     },
     "metadata": {
      "needs_background": "light"
     },
     "output_type": "display_data"
    }
   ],
   "source": [
    "fi_abc = pd.DataFrame({'features': X_train.columns, 'importance': abc.feature_importances_})\n",
    "fi_abc.sort_values('importance', ascending=False, inplace=True)\n",
    "fi_abc.iloc[:5,].plot.bar(x='features', y='importance')"
   ]
  },
  {
   "cell_type": "markdown",
   "metadata": {},
   "source": [
    "f) Using the model from part (b), predict for the train data. Look at the classification report for the train data - is there overfitting for the best estimator?\n",
    "\n",
    "Answer: There is no sign of overfitting because the testing and training precision rates and recall rates for each class as well as the overall accuracy rate are very similar, which suggest that there is no obvious overfitting in the training model. A sign of overfitting is when the training accuracy score and precision rates and/or recall rates are high while the testing accuracy score and precision rates and/or recall rates are low."
   ]
  },
  {
   "cell_type": "markdown",
   "metadata": {},
   "source": [
    "4. Gradient Boosting Classifier - GridSearch:"
   ]
  },
  {
   "cell_type": "code",
   "execution_count": 33,
   "metadata": {},
   "outputs": [
    {
     "name": "stdout",
     "output_type": "stream",
     "text": [
      "Fitting 5 folds for each of 24 candidates, totalling 120 fits\n"
     ]
    },
    {
     "name": "stderr",
     "output_type": "stream",
     "text": [
      "[Parallel(n_jobs=-1)]: Using backend LokyBackend with 4 concurrent workers.\n",
      "[Parallel(n_jobs=-1)]: Done  10 tasks      | elapsed:   18.1s\n",
      "[Parallel(n_jobs=-1)]: Done  64 tasks      | elapsed:  2.3min\n",
      "[Parallel(n_jobs=-1)]: Done 120 out of 120 | elapsed:  4.8min finished\n"
     ]
    },
    {
     "data": {
      "text/plain": [
       "GridSearchCV(cv=5, error_score=nan,\n",
       "             estimator=GradientBoostingClassifier(ccp_alpha=0.0,\n",
       "                                                  criterion='friedman_mse',\n",
       "                                                  init=None, learning_rate=0.1,\n",
       "                                                  loss='deviance', max_depth=3,\n",
       "                                                  max_features=None,\n",
       "                                                  max_leaf_nodes=None,\n",
       "                                                  min_impurity_decrease=0.0,\n",
       "                                                  min_impurity_split=None,\n",
       "                                                  min_samples_leaf=1,\n",
       "                                                  min_samples_split=2,\n",
       "                                                  min_weight_fraction_leaf=0.0,\n",
       "                                                  n_estimators=100,\n",
       "                                                  n_iter_no_c...one,\n",
       "                                                  presort='deprecated',\n",
       "                                                  random_state=None,\n",
       "                                                  subsample=1.0, tol=0.0001,\n",
       "                                                  validation_fraction=0.1,\n",
       "                                                  verbose=0, warm_start=False),\n",
       "             iid='deprecated', n_jobs=-1,\n",
       "             param_grid={'learning_rate': [0.2, 0.8, 1.2], 'max_depth': [1, 2],\n",
       "                         'n_estimators': [100, 200, 300, 400],\n",
       "                         'random_state': [101]},\n",
       "             pre_dispatch='2*n_jobs', refit=True, return_train_score=False,\n",
       "             scoring='roc_auc', verbose=5)"
      ]
     },
     "execution_count": 33,
     "metadata": {},
     "output_type": "execute_result"
    }
   ],
   "source": [
    "from sklearn.ensemble import GradientBoostingClassifier\n",
    "\n",
    "#create a dictionary of parameters \n",
    "param_grid = {\n",
    "'n_estimators':[100, 200, 300, 400],\n",
    "'learning_rate':[0.2, 0.8, 1.2],\n",
    "'max_depth':[1,2],    \n",
    "'random_state':[101]}\n",
    "\n",
    "gbc_obj=GradientBoostingClassifier()\n",
    "\n",
    "# Create gridsearch object with various combinations of parameters\n",
    "gbc_Grid = GridSearchCV(gbc_obj, param_grid, cv = 5, scoring = 'roc_auc',refit = True, n_jobs=-1, verbose = 5)\n",
    "\n",
    "gbc_Grid.fit(X_train, y_train)"
   ]
  },
  {
   "cell_type": "code",
   "execution_count": 34,
   "metadata": {},
   "outputs": [
    {
     "data": {
      "text/plain": [
       "GradientBoostingClassifier(ccp_alpha=0.0, criterion='friedman_mse', init=None,\n",
       "                           learning_rate=0.2, loss='deviance', max_depth=2,\n",
       "                           max_features=None, max_leaf_nodes=None,\n",
       "                           min_impurity_decrease=0.0, min_impurity_split=None,\n",
       "                           min_samples_leaf=1, min_samples_split=2,\n",
       "                           min_weight_fraction_leaf=0.0, n_estimators=400,\n",
       "                           n_iter_no_change=None, presort='deprecated',\n",
       "                           random_state=101, subsample=1.0, tol=0.0001,\n",
       "                           validation_fraction=0.1, verbose=0,\n",
       "                           warm_start=False)"
      ]
     },
     "execution_count": 34,
     "metadata": {},
     "output_type": "execute_result"
    }
   ],
   "source": [
    "gbc_Grid.best_estimator_"
   ]
  },
  {
   "cell_type": "code",
   "execution_count": 35,
   "metadata": {},
   "outputs": [],
   "source": [
    "gbc = gbc_Grid.best_estimator_\n",
    "\n",
    "y_train_pred_gbc = gbc.predict(X_train)\n",
    "y_test_pred_gbc = gbc.predict(X_test)\n",
    "\n",
    "y_train_predprob_gbc = gbc.predict_proba(X_train)\n",
    "y_test_predprob_gbc = gbc.predict_proba(X_test)"
   ]
  },
  {
   "cell_type": "code",
   "execution_count": 36,
   "metadata": {},
   "outputs": [
    {
     "name": "stdout",
     "output_type": "stream",
     "text": [
      "Gradient Boosting Classifier Training Confusion Matrix\n",
      "[[16365   919]\n",
      " [ 1837  3671]]\n",
      "\n",
      "Gradient Boosting Classifier Training Classification Report\n",
      "              precision    recall  f1-score   support\n",
      "\n",
      "           0       0.90      0.95      0.92     17284\n",
      "           1       0.80      0.67      0.73      5508\n",
      "\n",
      "    accuracy                           0.88     22792\n",
      "   macro avg       0.85      0.81      0.82     22792\n",
      "weighted avg       0.88      0.88      0.88     22792\n",
      "\n",
      "\n",
      "Gradient Boosting Classifier Training ROC AUC: 0.9366870243816109\n"
     ]
    }
   ],
   "source": [
    "print(\"Gradient Boosting Classifier Training Confusion Matrix\")\n",
    "print(skm.confusion_matrix(y_train, y_train_pred_gbc))\n",
    "print(\"\\nGradient Boosting Classifier Training Classification Report\")\n",
    "print(skm.classification_report(y_train, y_train_pred_gbc))\n",
    "print(\"\\nGradient Boosting Classifier Training ROC AUC:\", skm.roc_auc_score(y_train, y_train_predprob_gbc[:,1]))\n"
   ]
  },
  {
   "cell_type": "code",
   "execution_count": 37,
   "metadata": {},
   "outputs": [
    {
     "name": "stdout",
     "output_type": "stream",
     "text": [
      "Gradient Boosting Classifier Testing Confusion Matrix\n",
      "[[7022  414]\n",
      " [ 794 1539]]\n",
      "\n",
      "Gradient Boosting Classifier Testing Classification Report\n",
      "              precision    recall  f1-score   support\n",
      "\n",
      "           0       0.90      0.94      0.92      7436\n",
      "           1       0.79      0.66      0.72      2333\n",
      "\n",
      "    accuracy                           0.88      9769\n",
      "   macro avg       0.84      0.80      0.82      9769\n",
      "weighted avg       0.87      0.88      0.87      9769\n",
      "\n",
      "\n",
      "Gradient Boosting Classifier Testing ROC AUC: 0.9298699668230481\n"
     ]
    }
   ],
   "source": [
    "print(\"Gradient Boosting Classifier Testing Confusion Matrix\")\n",
    "print(skm.confusion_matrix(y_test, y_test_pred_gbc))\n",
    "print(\"\\nGradient Boosting Classifier Testing Classification Report\")\n",
    "print(skm.classification_report(y_test, y_test_pred_gbc))\n",
    "print(\"\\nGradient Boosting Classifier Testing ROC AUC:\", skm.roc_auc_score(y_test, y_test_predprob_gbc[:,1]))\n"
   ]
  },
  {
   "cell_type": "code",
   "execution_count": 38,
   "metadata": {},
   "outputs": [
    {
     "data": {
      "text/plain": [
       "<matplotlib.axes._subplots.AxesSubplot at 0x1a2867e358>"
      ]
     },
     "execution_count": 38,
     "metadata": {},
     "output_type": "execute_result"
    },
    {
     "data": {
      "image/png": "[encoded data removed]",
      "text/plain": [
       "<Figure size 432x288 with 1 Axes>"
      ]
     },
     "metadata": {
      "needs_background": "light"
     },
     "output_type": "display_data"
    }
   ],
   "source": [
    "fi_gbc = pd.DataFrame({'features': X_train.columns, 'importance': gbc.feature_importances_})\n",
    "fi_gbc.sort_values('importance', ascending=False, inplace=True)\n",
    "fi_gbc.iloc[:5,].plot.bar(x='features', y='importance')"
   ]
  },
  {
   "cell_type": "markdown",
   "metadata": {},
   "source": [
    "f) Using the model from part (b), predict for the train data. Look at the classification report for the train data - is there overfitting for the best estimator?\n",
    "\n",
    "Answer: There is no sign of overfitting because the testing and training precision rates and recall rates for each class as well as the overall accuracy rate are very similar, which suggest that there is no obvious overfitting in the training model. A sign of overfitting is when the training accuracy score and precision rates and/or recall rates are high while the testing accuracy score and precision rates and/or recall rates are low."
   ]
  },
  {
   "cell_type": "markdown",
   "metadata": {},
   "source": [
    "5. XGBoost - RandomizedSearchCV"
   ]
  },
  {
   "cell_type": "code",
   "execution_count": 52,
   "metadata": {},
   "outputs": [
    {
     "name": "stdout",
     "output_type": "stream",
     "text": [
      "Fitting 5 folds for each of 10 candidates, totalling 50 fits\n"
     ]
    },
    {
     "name": "stderr",
     "output_type": "stream",
     "text": [
      "[Parallel(n_jobs=-1)]: Using backend LokyBackend with 4 concurrent workers.\n",
      "[Parallel(n_jobs=-1)]: Done  10 tasks      | elapsed:  2.4min\n",
      "[Parallel(n_jobs=-1)]: Done  50 out of  50 | elapsed: 10.8min finished\n"
     ]
    },
    {
     "data": {
      "text/plain": [
       "RandomizedSearchCV(cv=5, error_score=nan,\n",
       "                   estimator=XGBClassifier(base_score=0.5, booster='gbtree',\n",
       "                                           colsample_bylevel=1,\n",
       "                                           colsample_bytree=1, gamma=0,\n",
       "                                           learning_rate=0.1, max_delta_step=0,\n",
       "                                           max_depth=3, min_child_weight=1,\n",
       "                                           missing=None, n_estimators=100,\n",
       "                                           n_jobs=1, nthread=None,\n",
       "                                           objective='binary:logistic',\n",
       "                                           random_state=0, reg_alpha=0,\n",
       "                                           reg_lambda=1, scale_pos_weight=1,\n",
       "                                           se...\n",
       "                                                  3, 3.25, 3.5, 3.75, 4, 4.25,\n",
       "                                                  4.5, 4.75, 5],\n",
       "                                        'learning_rate': [0.1, 0.2, 0.3, 0.4,\n",
       "                                                          0.5, 0.6, 0.7, 0.8,\n",
       "                                                          0.9, 1.0, 1.1, 1.2,\n",
       "                                                          1.3, 1.4, 1.5, 1.6],\n",
       "                                        'max_depth': [1, 2],\n",
       "                                        'n_estimators': [100, 150, 200, 250,\n",
       "                                                         300, 350, 400, 450,\n",
       "                                                         500, 550, 600, 650,\n",
       "                                                         700, 750, 800, 850,\n",
       "                                                         900, 950, 1000],\n",
       "                                        'random_state': [101]},\n",
       "                   pre_dispatch='2*n_jobs', random_state=None, refit=True,\n",
       "                   return_train_score=False, scoring='roc_auc', verbose=5)"
      ]
     },
     "execution_count": 52,
     "metadata": {},
     "output_type": "execute_result"
    }
   ],
   "source": [
    "from xgboost import XGBClassifier\n",
    "from sklearn.model_selection import RandomizedSearchCV\n",
    "\n",
    "#create a dictionary of parameters \n",
    "param_grid = {\n",
    "'n_estimators':[100,150,200,250,300,350,400,450,500,550,600,650,700,750,800,850,900,950,1000],\n",
    "'learning_rate':[0.1,0.2,0.3,0.4,0.5,0.6,0.7,0.8,0.9,1.0,1.1,1.2,1.3,1.4,1.5,1.6],\n",
    "'max_depth':[1,2],\n",
    "'gamma':[0,0.25,0.5,0.75,1,1.25,1.5,1.75,2,2.25,2.5,2.75,3,3.25,3.5,3.75,4,4.25,4.5,4.75,5],    \n",
    "'random_state':[101]}\n",
    "\n",
    "xgb_obj=XGBClassifier()\n",
    "\n",
    "# Create gridsearch object with various combinations of parameters\n",
    "xgb_Grid = RandomizedSearchCV(xgb_obj, param_grid, cv = 5, scoring = 'roc_auc',refit = True, n_jobs=-1, verbose = 5)\n",
    "\n",
    "xgb_Grid.fit(X_train, y_train)"
   ]
  },
  {
   "cell_type": "code",
   "execution_count": 53,
   "metadata": {},
   "outputs": [
    {
     "data": {
      "text/plain": [
       "XGBClassifier(base_score=0.5, booster='gbtree', colsample_bylevel=1,\n",
       "              colsample_bytree=1, gamma=2, learning_rate=1.4, max_delta_step=0,\n",
       "              max_depth=1, min_child_weight=1, missing=None, n_estimators=500,\n",
       "              n_jobs=1, nthread=None, objective='binary:logistic',\n",
       "              random_state=101, reg_alpha=0, reg_lambda=1, scale_pos_weight=1,\n",
       "              seed=None, silent=True, subsample=1)"
      ]
     },
     "execution_count": 53,
     "metadata": {},
     "output_type": "execute_result"
    }
   ],
   "source": [
    "xgb_Grid.best_estimator_"
   ]
  },
  {
   "cell_type": "code",
   "execution_count": 54,
   "metadata": {},
   "outputs": [],
   "source": [
    "xgb = xgb_Grid.best_estimator_\n",
    "\n",
    "y_train_pred_xgb = xgb.predict(X_train)\n",
    "y_test_pred_xgb = xgb.predict(X_test)\n",
    "\n",
    "y_train_predprob_xgb = xgb.predict_proba(X_train)\n",
    "y_test_predprob_xgb = xgb.predict_proba(X_test)"
   ]
  },
  {
   "cell_type": "code",
   "execution_count": 55,
   "metadata": {},
   "outputs": [
    {
     "name": "stdout",
     "output_type": "stream",
     "text": [
      "XGBoost Classifier Training Confusion Matrix\n",
      "[[16258  1026]\n",
      " [ 1888  3620]]\n",
      "\n",
      "XGBoost Classifier Training Classification Report\n",
      "              precision    recall  f1-score   support\n",
      "\n",
      "           0       0.90      0.94      0.92     17284\n",
      "           1       0.78      0.66      0.71      5508\n",
      "\n",
      "    accuracy                           0.87     22792\n",
      "   macro avg       0.84      0.80      0.82     22792\n",
      "weighted avg       0.87      0.87      0.87     22792\n",
      "\n",
      "\n",
      "XGBoost Classifier Training ROC AUC: 0.9277215562997552\n"
     ]
    }
   ],
   "source": [
    "print(\"XGBoost Classifier Training Confusion Matrix\")\n",
    "print(skm.confusion_matrix(y_train, y_train_pred_xgb))\n",
    "print(\"\\nXGBoost Classifier Training Classification Report\")\n",
    "print(skm.classification_report(y_train, y_train_pred_xgb))\n",
    "print(\"\\nXGBoost Classifier Training ROC AUC:\", skm.roc_auc_score(y_train, y_train_predprob_xgb[:,1]))\n"
   ]
  },
  {
   "cell_type": "code",
   "execution_count": 56,
   "metadata": {},
   "outputs": [
    {
     "name": "stdout",
     "output_type": "stream",
     "text": [
      "XGBoost Classifier Testing Confusion Matrix\n",
      "[[6980  456]\n",
      " [ 795 1538]]\n",
      "\n",
      "XGBoost Classifier Testing Classification Report\n",
      "              precision    recall  f1-score   support\n",
      "\n",
      "           0       0.90      0.94      0.92      7436\n",
      "           1       0.77      0.66      0.71      2333\n",
      "\n",
      "    accuracy                           0.87      9769\n",
      "   macro avg       0.83      0.80      0.81      9769\n",
      "weighted avg       0.87      0.87      0.87      9769\n",
      "\n",
      "\n",
      "XGBoost Classifier Testing ROC AUC: 0.9263940994875084\n"
     ]
    }
   ],
   "source": [
    "print(\"XGBoost Classifier Testing Confusion Matrix\")\n",
    "print(skm.confusion_matrix(y_test, y_test_pred_xgb))\n",
    "print(\"\\nXGBoost Classifier Testing Classification Report\")\n",
    "print(skm.classification_report(y_test, y_test_pred_xgb))\n",
    "print(\"\\nXGBoost Classifier Testing ROC AUC:\", skm.roc_auc_score(y_test, y_test_predprob_xgb[:,1]))\n"
   ]
  },
  {
   "cell_type": "code",
   "execution_count": 57,
   "metadata": {},
   "outputs": [
    {
     "data": {
      "text/plain": [
       "<matplotlib.axes._subplots.AxesSubplot at 0x1a301aba20>"
      ]
     },
     "execution_count": 57,
     "metadata": {},
     "output_type": "execute_result"
    },
    {
     "data": {
      "image/png": "[encoded data removed]",
      "text/plain": [
       "<Figure size 432x288 with 1 Axes>"
      ]
     },
     "metadata": {
      "needs_background": "light"
     },
     "output_type": "display_data"
    }
   ],
   "source": [
    "fi_xgb = pd.DataFrame({'features': X_train.columns, 'importance': xgb.feature_importances_})\n",
    "fi_xgb.sort_values('importance', ascending=False, inplace=True)\n",
    "fi_xgb.iloc[:5,].plot.bar(x='features', y='importance')"
   ]
  },
  {
   "cell_type": "markdown",
   "metadata": {},
   "source": [
    "f) Using the model from part (b), predict for the train data. Look at the classification report for the train data - is there overfitting for the best estimator?\n",
    "\n",
    "There is no sign of overfitting because the testing and training precision rates and recall rates for each class as well as the overall accuracy rate are very similar, which suggest that there is no obvious overfitting in the training model. A sign of overfitting is when the training accuracy score and precision rates and/or recall rates are high while the testing accuracy score and precision rates and/or recall rates are low."
   ]
  },
  {
   "cell_type": "markdown",
   "metadata": {},
   "source": [
    "6. Moving into Conceptual Problems:"
   ]
  },
  {
   "cell_type": "markdown",
   "metadata": {},
   "source": [
    "a) What does the alpha parameter represent in AdaBoost? Please refer to chapter 7 of the Hands-On ML book if you are struggling.\n",
    "\n",
    "Answer: AdaBoost is an iterative ensemble boosting classifier. It builds a stronger classifier by combining multiple poorly performing classifiers. Alpha is the weight applied to classifier as determined by AdaBoost. The basic concept behind Adaboost is to set the weights (alpha) of classifiers and training the data sample in each iteration such that it ensures the accurate predictions of unusual observations through iterations (multiple weak classifiers). "
   ]
  },
  {
   "cell_type": "markdown",
   "metadata": {},
   "source": [
    "b) In AdaBoost explain how the final predicted class is determined. Be sure to reference the alpha term in your explanation.\n",
    "\n",
    "To determine the final predicted class in AdaBoost, we take a testing sample and fit it into each of the weak classifiers, and multiply the outputs with the alpha weights of each weak classifier. Then we perform a sum or majority vote of the final output of these weak classifiers and determined which class does this testing sample belongs to. For instance, for  a binary classification problem, with 3 weak classifiers, the classification output might be 1,-1,-1 (where 1 is class A and -1 is class B), and we multiply the weights with each classifiers (e.g. 0.2, 0.5, 0.3), the sum is -0.6, in which we will classify this sample to class B. "
   ]
  },
  {
   "cell_type": "markdown",
   "metadata": {},
   "source": [
    "c) In Gradient Boosting, what is the role of the max_depth parameter? Why is it important to tune on this parameter?\n",
    "\n",
    "Answer: The role of the max depth parameter is determine the depth of the individual tree classifier. Boosting is a sequential technique which works on the principle of ensemble. In Gradient Boosting, the model learns from weak learns to improve accuracy and build a stronger learner. The learners that predicted correctly are given a lower weight and the ones misclassified are given higher weight. The max depth parameter could be used to control the learning rate of the boosting model as well as to help prevent overfit. Trees with fewer nodes/less depth are normally weaker, which is good for a boosting algorithm and will be given more weight to be learnt in the next sequence. Therefore, the max depth can control the amount of learning gained from each sequence. In addition, controlling the max depth parameter can help prevent overfitting a classification tree since the deeper the tree, the higher chance that it could contain information that is specific to the training data.\n"
   ]
  },
  {
   "cell_type": "markdown",
   "metadata": {},
   "source": [
    "d) In Part (e) of Steps 2-5 you determined the top 5 predictors across each model. Do any predictors show up in the top 5 predictors for all three models? If so, comment on if this predictor makes sense given what you are attempting to predict. (Note: If you don't have any predictors showing up across all 3 predictors, explain one that shows up in 2 of them).\n",
    "\n",
    "Answer: There are a few predictors show up in the top 5 predictors for all three models: Capital Gain, Capital Loss, Age, and Education Number. These predictors make sense given that we are trying to predict whethere one's salary is higher than 50k or not. Capital Gain and Capital Loss make sense because this can show if one is actively managing his/her moeny through investment, and we can see if he/she gain or loss any money on top of his/her basic salary. Age and Education number make sense as we would normally think that people who has more working experience (typically can be determined by age) and higher education tend to have better job offer and higher salary. "
   ]
  },
  {
   "cell_type": "markdown",
   "metadata": {},
   "source": [
    "e) From the models run in steps 2-5, which performs the best based on the Classification Report? Support your reasoning with evidence from your test data and be sure to share the optimal hyperparameters found from your grid search.\n",
    "\n",
    "Answer: From the models run in steps 2-5, Gradient Boosting Classifier performs the best based on the classification report. Even though Random Forest Classifier (step 20 has the highest training accuracy rate, the significant difference between training and testing scores indicates that there is sign of overfitting. Hence, we are not considering this model. For Gradient Boosting Classifier, the optimal hyperparameter found from the grid search is learning rate of 0.2, n estimators of 400, and max depth of 2. The accuracy rates are very similar across all models. The highest accuracy rate for testing and training is 88% from Gradient Boosting Classifier, and it also has slightly higher precision and recall rates as well as ROC AUC rate for both training and testing data. The difference between training and testing rates are very small, which does not indicate any sign of overfitting. Therefore, based on the classification report, Gradient Boosting Classifier performs the best."
   ]
  },
  {
   "cell_type": "markdown",
   "metadata": {},
   "source": [
    "f) For your best performing model, plot out a ROC curve using your test data. Feel free to use sklearn, matplotlib or any other method in python. Describe what the x-axis & y-axis of the ROC curve tell us about a classifier."
   ]
  },
  {
   "cell_type": "code",
   "execution_count": 59,
   "metadata": {},
   "outputs": [
    {
     "data": {
      "text/plain": [
       "Text(0.5, 0, 'False Positive Rate')"
      ]
     },
     "execution_count": 59,
     "metadata": {},
     "output_type": "execute_result"
    },
    {
     "data": {
      "image/png": "[encoded data removed]",
      "text/plain": [
       "<Figure size 792x504 with 1 Axes>"
      ]
     },
     "metadata": {
      "needs_background": "light"
     },
     "output_type": "display_data"
    }
   ],
   "source": [
    "import matplotlib.pyplot as plt\n",
    "\n",
    "fpr, tpr, threshold = skm.roc_curve(y_test, y_test_predprob_gbc[:,1])\n",
    "roc_auc = skm.auc(fpr, tpr)\n",
    "\n",
    "fig, ax = plt.subplots(figsize=(11,7))\n",
    "ax.plot(fpr, tpr)\n",
    "plt.title('ROC Curve')\n",
    "plt.plot([0, 1], [0, 1],'r--')\n",
    "plt.ylabel('True Positive Rate')\n",
    "plt.xlabel('False Positive Rate')"
   ]
  },
  {
   "cell_type": "markdown",
   "metadata": {},
   "source": [
    "Answer: The y-axis is the True Positive Rate, or the Recall rate or Sensitivity rate, which is calculated by using true positive divided by the sum of true positive and false negative. The x-axis is the False Positive Rate, which is calculated by using one minus the specificity (false positive divided by the sum of true negative and false positive). When ROC AUC rate is 1, the model has a perfect separabiltiy meaning it has the ablity to separate the two classes perfectly well. However, the ROC AUC rate is 0, the model is classifying the sample into a reciprocal class (all class 1 samples will be classified as class 2 and vise versa). When the ROC AUC rate is 0.5, the model does not have any ability to classify between classes. "
   ]
  }
 ],
 "metadata": {
  "kernelspec": {
   "display_name": "Python 3",
   "language": "python",
   "name": "python3"
  },
  "language_info": {
   "codemirror_mode": {
    "name": "ipython",
    "version": 3
   },
   "file_extension": ".py",
   "mimetype": "text/x-python",
   "name": "python",
   "nbconvert_exporter": "python",
   "pygments_lexer": "ipython3",
   "version": "3.7.3"
  }
 },
 "nbformat": 4,
 "nbformat_minor": 2
}
