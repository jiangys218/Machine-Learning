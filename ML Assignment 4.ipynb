{
 "cells": [
  {
   "cell_type": "markdown",
   "metadata": {},
   "source": [
    "1. Data Processing:"
   ]
  },
  {
   "cell_type": "code",
   "execution_count": 6,
   "metadata": {},
   "outputs": [
    {
     "data": {
      "text/plain": [
       "(30000, 24)"
      ]
     },
     "execution_count": 6,
     "metadata": {},
     "output_type": "execute_result"
    }
   ],
   "source": [
    "import pandas as pd\n",
    "import numpy as np\n",
    "path = \"Downloads/default of credit card clients.xls\"\n",
    "df = pd.read_excel(path)\n",
    "df = df.dropna()\n",
    "df.drop(columns=['Unnamed: 0'], inplace=True)\n",
    "df.shape"
   ]
  },
  {
   "cell_type": "code",
   "execution_count": 8,
   "metadata": {},
   "outputs": [],
   "source": [
    "y = df[\"default payment next month\"]\n",
    "x = df.loc[:, df.columns != 'default payment next month']\n",
    "from sklearn.model_selection import train_test_split\n",
    "X_train, X_test, y_train, y_test = train_test_split(x, y, test_size=0.3, random_state=101)\n"
   ]
  },
  {
   "cell_type": "markdown",
   "metadata": {},
   "source": [
    "2. Random Forest Classifier - Base Model:"
   ]
  },
  {
   "cell_type": "code",
   "execution_count": 19,
   "metadata": {},
   "outputs": [],
   "source": [
    "from sklearn.ensemble import RandomForestClassifier\n",
    "from sklearn import metrics as skm\n",
    "\n",
    "rfc = RandomForestClassifier(n_estimators=10, random_state=101)\n",
    "rfc.fit(X_train, y_train)\n",
    "\n",
    "train_pred = rfc.predict(X_train)\n",
    "test_pred = rfc.predict(X_test)\n",
    "\n",
    "train_proba = rfc.predict_proba(X_train)\n",
    "test_proba = rfc.predict_proba(X_test)"
   ]
  },
  {
   "cell_type": "code",
   "execution_count": 20,
   "metadata": {},
   "outputs": [
    {
     "name": "stdout",
     "output_type": "stream",
     "text": [
      "Train Score is: 0.9793333333333333\n",
      "\n",
      "Train Confusion Matrix\n",
      "[[16284    22]\n",
      " [  412  4282]]\n",
      "\n",
      "Train Classification Report\n",
      "              precision    recall  f1-score   support\n",
      "\n",
      "           0       0.98      1.00      0.99     16306\n",
      "           1       0.99      0.91      0.95      4694\n",
      "\n",
      "    accuracy                           0.98     21000\n",
      "   macro avg       0.99      0.96      0.97     21000\n",
      "weighted avg       0.98      0.98      0.98     21000\n",
      "\n",
      "\n",
      "Train ROC AUC\n",
      "0.999152133637619\n"
     ]
    }
   ],
   "source": [
    "print(\"\\Train Confusion Matrix\")\n",
    "print(skm.confusion_matrix(y_train, train_pred))\n",
    "print(\"\\nTrain Classification Report\")\n",
    "print(skm.classification_report(y_train, train_pred))\n",
    "print(\"\\nTrain ROC AUC\")\n",
    "print(skm.roc_auc_score(y_train, train_proba[:,1]))"
   ]
  },
  {
   "cell_type": "code",
   "execution_count": 21,
   "metadata": {},
   "outputs": [
    {
     "name": "stdout",
     "output_type": "stream",
     "text": [
      "Test Score: 0.8056666666666666\n",
      "\n",
      "Test Confusion Matrix\n",
      "[[6637  421]\n",
      " [1328  614]]\n",
      "\n",
      "Test Classification Report\n",
      "              precision    recall  f1-score   support\n",
      "\n",
      "           0       0.83      0.94      0.88      7058\n",
      "           1       0.59      0.32      0.41      1942\n",
      "\n",
      "    accuracy                           0.81      9000\n",
      "   macro avg       0.71      0.63      0.65      9000\n",
      "weighted avg       0.78      0.81      0.78      9000\n",
      "\n",
      "\n",
      "Test ROC AUC\n",
      "0.7289395807986729\n"
     ]
    }
   ],
   "source": [
    "print(\"Test Confusion Matrix\")\n",
    "print(skm.confusion_matrix(y_test, test_pred))\n",
    "print(\"\\nTest Classification Report\")\n",
    "print(skm.classification_report(y_test, test_pred))\n",
    "print(\"\\nTest ROC AUC\")\n",
    "print(skm.roc_auc_score(y_test, test_proba[:,1]))"
   ]
  },
  {
   "cell_type": "markdown",
   "metadata": {},
   "source": [
    "e) Calculate predictions for the training data & build the classification report & roc_auc_score. Are there signs of overfitting? Why or why not?\n",
    "\n",
    "Answer: There are signs of overfitting. First, the training ROC AUC score for trainning is extremely high (0.999), which is an sign of extreme overfitting. Further, the trianing precision, recall, accuracy and ROC AUC scores are very high (all in the high 90s%) while the testing precision, recall accuracy and ROC AUC scores are significantly lower (mostly around 70%), which is an indication that the model fits very well with the training data but not so well with the testing data (overfitting)."
   ]
  },
  {
   "cell_type": "markdown",
   "metadata": {},
   "source": [
    "3. Random Forest Classifier - Grid Search:"
   ]
  },
  {
   "cell_type": "code",
   "execution_count": 25,
   "metadata": {},
   "outputs": [
    {
     "name": "stdout",
     "output_type": "stream",
     "text": [
      "Fitting 5 folds for each of 36 candidates, totalling 180 fits\n"
     ]
    },
    {
     "name": "stderr",
     "output_type": "stream",
     "text": [
      "[Parallel(n_jobs=-1)]: Using backend LokyBackend with 4 concurrent workers.\n",
      "[Parallel(n_jobs=-1)]: Done  10 tasks      | elapsed:   10.3s\n",
      "[Parallel(n_jobs=-1)]: Done  64 tasks      | elapsed:  2.0min\n",
      "[Parallel(n_jobs=-1)]: Done 154 tasks      | elapsed:  6.4min\n",
      "[Parallel(n_jobs=-1)]: Done 180 out of 180 | elapsed:  9.0min finished\n"
     ]
    },
    {
     "data": {
      "text/plain": [
       "GridSearchCV(cv=5, error_score='raise-deprecating',\n",
       "             estimator=RandomForestClassifier(bootstrap=True, class_weight=None,\n",
       "                                              criterion='gini', max_depth=None,\n",
       "                                              max_features='auto',\n",
       "                                              max_leaf_nodes=None,\n",
       "                                              min_impurity_decrease=0.0,\n",
       "                                              min_impurity_split=None,\n",
       "                                              min_samples_leaf=1,\n",
       "                                              min_samples_split=2,\n",
       "                                              min_weight_fraction_leaf=0.0,\n",
       "                                              n_estimators='warn', n_jobs=None,\n",
       "                                              oob_score=False,\n",
       "                                              random_state=None, verbose=0,\n",
       "                                              warm_start=False),\n",
       "             iid='warn', n_jobs=-1,\n",
       "             param_grid={'max_depth': [6, 8, 10, 12], 'max_features': [2, 4, 6],\n",
       "                         'n_estimators': [50, 100, 500],\n",
       "                         'random_state': [101]},\n",
       "             pre_dispatch='2*n_jobs', refit=True, return_train_score=False,\n",
       "             scoring='roc_auc', verbose=5)"
      ]
     },
     "execution_count": 25,
     "metadata": {},
     "output_type": "execute_result"
    }
   ],
   "source": [
    "from sklearn.model_selection import GridSearchCV\n",
    "\n",
    "#create a dictionary of parameters \n",
    "param_grid = {'max_depth':[6, 8, 10, 12],\n",
    "'n_estimators':[50, 100, 500],\n",
    "'max_features':[2, 4, 6],\n",
    "'random_state':[101]}\n",
    "\n",
    "# create Random Forest model \n",
    "rf_obj=RandomForestClassifier()\n",
    "\n",
    "# Create gridsearch object with various combinations of parameters\n",
    "rf_Grid = GridSearchCV(rf_obj, param_grid, cv = 5, scoring = 'roc_auc',refit = True, n_jobs=-1, verbose = 5)\n",
    "\n",
    "rf_Grid.fit(X_train, y_train)"
   ]
  },
  {
   "cell_type": "code",
   "execution_count": 26,
   "metadata": {},
   "outputs": [
    {
     "data": {
      "text/plain": [
       "{'max_depth': 12, 'max_features': 2, 'n_estimators': 500, 'random_state': 101}"
      ]
     },
     "execution_count": 26,
     "metadata": {},
     "output_type": "execute_result"
    }
   ],
   "source": [
    "rf_Grid.best_params_"
   ]
  },
  {
   "cell_type": "code",
   "execution_count": 27,
   "metadata": {},
   "outputs": [
    {
     "data": {
      "text/plain": [
       "RandomForestClassifier(bootstrap=True, class_weight=None, criterion='gini',\n",
       "                       max_depth=12, max_features=2, max_leaf_nodes=None,\n",
       "                       min_impurity_decrease=0.0, min_impurity_split=None,\n",
       "                       min_samples_leaf=1, min_samples_split=2,\n",
       "                       min_weight_fraction_leaf=0.0, n_estimators=500,\n",
       "                       n_jobs=None, oob_score=False, random_state=101,\n",
       "                       verbose=0, warm_start=False)"
      ]
     },
     "execution_count": 27,
     "metadata": {},
     "output_type": "execute_result"
    }
   ],
   "source": [
    "rf_Grid.best_estimator_"
   ]
  },
  {
   "cell_type": "code",
   "execution_count": 32,
   "metadata": {},
   "outputs": [],
   "source": [
    "rf = rf_Grid.best_estimator_\n",
    "\n",
    "train_predict = rf.predict(X_train)\n",
    "test_predict = rf.predict(X_test)\n",
    "\n",
    "train_probab = rf.predict_proba(X_train)\n",
    "test_probab = rf.predict_proba(X_test)"
   ]
  },
  {
   "cell_type": "code",
   "execution_count": 33,
   "metadata": {},
   "outputs": [
    {
     "name": "stdout",
     "output_type": "stream",
     "text": [
      "Train Confusion Matrix\n",
      "[[16106   200]\n",
      " [ 2483  2211]]\n",
      "\n",
      "Train Classification Report\n",
      "              precision    recall  f1-score   support\n",
      "\n",
      "           0       0.87      0.99      0.92     16306\n",
      "           1       0.92      0.47      0.62      4694\n",
      "\n",
      "    accuracy                           0.87     21000\n",
      "   macro avg       0.89      0.73      0.77     21000\n",
      "weighted avg       0.88      0.87      0.86     21000\n",
      "\n",
      "\n",
      "Train ROC AUC: 0.9082534935423091\n"
     ]
    }
   ],
   "source": [
    "print(\"Train Confusion Matrix\")\n",
    "print(skm.confusion_matrix(y_train, train_predict))\n",
    "print(\"\\nTrain Classification Report\")\n",
    "print(skm.classification_report(y_train, train_predict))\n",
    "print(\"\\nTrain ROC AUC:\", skm.roc_auc_score(y_train, train_probab[:,1]))"
   ]
  },
  {
   "cell_type": "code",
   "execution_count": 35,
   "metadata": {},
   "outputs": [
    {
     "name": "stdout",
     "output_type": "stream",
     "text": [
      "Test Confusion Matrix\n",
      "[[6768  290]\n",
      " [1349  593]]\n",
      "\n",
      "Test Classification Report\n",
      "              precision    recall  f1-score   support\n",
      "\n",
      "           0       0.83      0.96      0.89      7058\n",
      "           1       0.67      0.31      0.42      1942\n",
      "\n",
      "    accuracy                           0.82      9000\n",
      "   macro avg       0.75      0.63      0.66      9000\n",
      "weighted avg       0.80      0.82      0.79      9000\n",
      "\n",
      "\n",
      "Test ROC AUC: 0.7772604817111946\n"
     ]
    }
   ],
   "source": [
    "print(\"Test Confusion Matrix\")\n",
    "print(skm.confusion_matrix(y_test, test_predict))\n",
    "print(\"\\nTest Classification Report\")\n",
    "print(skm.classification_report(y_test, test_predict))\n",
    "print(\"\\nTest ROC AUC:\", skm.roc_auc_score(y_test, test_probab[:,1]))"
   ]
  },
  {
   "cell_type": "markdown",
   "metadata": {},
   "source": [
    "f) Calculate predictions for the training data & build the confusion matrix, classification report & roc_auc_score. Are there signs of overfitting? Why or why not?\n",
    "\n",
    "Answer: There are signs of overfitting. The trianing precision, recall, accuracy and ROC AUC scores are very high (all around 90%) while the testing precision, recall accuracy and ROC AUC scores are relatively lower (mostly around 80%), which might an indication that the model fits  well with the training data but not as well with the testing data (overfitting)."
   ]
  },
  {
   "cell_type": "markdown",
   "metadata": {},
   "source": [
    "4. Create a feature importance plot for your best performing model."
   ]
  },
  {
   "cell_type": "code",
   "execution_count": 38,
   "metadata": {},
   "outputs": [
    {
     "data": {
      "text/plain": [
       "<matplotlib.axes._subplots.AxesSubplot at 0x1a28b9f8d0>"
      ]
     },
     "execution_count": 38,
     "metadata": {},
     "output_type": "execute_result"
    },
    {
     "data": {
      "image/png": "[encoded data removed]",
      "text/plain": [
       "<Figure size 432x288 with 1 Axes>"
      ]
     },
     "metadata": {
      "needs_background": "light"
     },
     "output_type": "display_data"
    }
   ],
   "source": [
    "fi = pd.DataFrame({'features': X_train.columns, 'importance': rf.feature_importances_})\n",
    "fi.sort_values('importance', ascending=False, inplace=True)\n",
    "fi.plot.bar(x='features', y='importance')"
   ]
  },
  {
   "cell_type": "markdown",
   "metadata": {},
   "source": [
    "a) What are the top 5 features for this model?\n",
    "\n",
    "Answer: The top 5 features for this model are PAY_0, PAY_2, PAY_3, PAY_4 and PAY_AMT1. "
   ]
  },
  {
   "cell_type": "markdown",
   "metadata": {},
   "source": [
    "5. Conceptual Questions:"
   ]
  },
  {
   "cell_type": "markdown",
   "metadata": {},
   "source": [
    "a) What are the best parameters from the Grid Search in Question # 3? Does the Model from # 3 outperform Model # 2? Explain why.\n",
    "\n",
    "Answer: The best parameters from the Grid Search in model 3 are max_depth = 12, max_features = 2, and n_estimators = 500. For training data, model 2 has higher precision, recall, accuray, and ROC AUC scores while for testing data, model 3 has higher precision, recall, accuracy and ROC AUC scores. However, the high training scores and low testing scores in model 2 seems to indicate that model 2 is overfitting the data. Therefore, we conclude model 3 outperform model 2."
   ]
  },
  {
   "cell_type": "markdown",
   "metadata": {},
   "source": [
    "b) Overfitting is always a concern in ML problems. Does Model # 3 overfit data more or less than Model # 2? Explain why you think this is the case.\n",
    "\n",
    "Answer: Even though both model 2 and model 3 have signs of overfitting, model 2's training scores are extremely high (more likely to indicate overfitting) and the difference between training and testing scores for model 2 is bigger than the difference between training and testing scores for model 3. Therefore, model 3 overfits data less than model 2. One of the reasons why model 2 overfits data less than model 2 is because we use 5 cross fold validation in model 2, using cross validation can help find the optimal parameters and mitigate overfiting (please refer to question f as to how cross validation works). "
   ]
  },
  {
   "cell_type": "markdown",
   "metadata": {},
   "source": [
    "c) The lecture notes describe the Gini Index which is the default criterion used for splitting in sklearn's version of RandomForestClassifier. How does the Gini Index work? (i.e. How is it used to build a top-performing model?).\n",
    "\n",
    "Answer: We use the Gini index to measure the impurity of each node. The lower the Gini index in a specific node, the fewer classes that the samples in the nodes belongs to, which indicates the classification tree has done a good job in separating each class. The Gini index is calculated by one minus the sum of the squared ratios of class k instance in a specific node. For instance, if at one node, there are total of 50 samples with k possible classes, then the Gini index is one minus the sum of the squared ratios of this 50 samples being classified into k different classes. If all the samples in this node only belongs to class k, then the sum of these ratios should be 1 (squared(50/50) for class k and squared(0/50) for all other classes), and the Gini index should be 0, which is means the splits leading to this node has done a very good job in classifying class k samples as the samples in this node only belongs to one class. Using the Gini index to evaluate the performance of each split by calculating the purity of all its resulting nodes, and it can help us measure the performance of our tree."
   ]
  },
  {
   "cell_type": "markdown",
   "metadata": {},
   "source": [
    "d) Describe how Random Forest is different from bagging & why this difference can yield improved results.\n",
    "\n",
    "Answer: The main difference between random forest and bagging trees is that Random forests only takes a subset of features at random and split a node based on that subset of features. For bagging tress, all the features are considered when determining the split of a node. For bagging trees, since it takes all the features to split a tree, not only the trees depend heavily on the training sample, but they are also highly correlated in the prediction. On the other hand, since random forest only takes a subset of features to determine the split, the trees are more independent of each other as compared to bagging trees, and by reducing correlation between trees, random forest helps reduce variances. "
   ]
  },
  {
   "cell_type": "markdown",
   "metadata": {},
   "source": [
    "e) Describe the importance of the max_depth parameter in Random Forest. Do not just provide a definition, rather think through how bias-variance tradeoff might be impacted by the max_depth parameter.\n",
    "\n",
    "Answer: The max_depth parameter in random forest represents the depth of each tree in the forest. The deeper the tree, the more splits it has, and the more information the tree captured. However, having more splits might cause overfit because it captures too many information about the training dataset that might not be relevant to the testing data. Therefore, setting the max depth of the trees can avoid overfit. The deeper the trees grow, the more variance in the model since it captures more information than needed from the training data. On the other hand, severely limiting the depth of the trees can lead to increase of bias since it might not be able to capture all the useful information in the training data before hitting the limit. "
   ]
  },
  {
   "cell_type": "markdown",
   "metadata": {},
   "source": [
    "f) In this homework we used k-fold cross-validation while determining the optimal hyperparameters for our Random Forest model. 1) Describe how k-fold cross-validation works. 2) What benefit do we gain by using k-fold cross-validation when tuning our Random Forest model versus only using the train-test split approach?\n",
    "\n",
    "Answer: \n",
    "a) K-fold cross-validation is when a dataset is split into k number of subsets where each subset is used as a testing set at some point. For instance, in model 3 in this homework, we used 5-Fold cross validation in our random forest model, which our dataset is split into 5 subsets. In the first iteration, the first subset is used as our testing set and the rest of the 4 subset are used to train the model. In the second iteration, the second subset is used as the testing set and the rest are used as the training set. This process is repeated until each of the 5 subsets have been used as the testing set.\n",
    "\n",
    "b) The benefit of using k-fold cross-validation when tuning our random forest model is that all of our data will be used in the training and testing set at some point during the process, which can avoid fitting and testing the data only by a random subset of our data. Since in random forest, the splits of the tree depend heavily on the training set, if the randomly selected training set is not a good representative of the whole dataset, the trained tree might be bias toward the training data, which then lead to bad performance in testing. On the other hand, using k-fold cross-validation can avoid this problem since the parameters are tuned and the results are validated during the process when each subset of the data is used as training and testing set. Thus, the final trained model would be more generalized and representative for the entire dataset. "
   ]
  }
 ],
 "metadata": {
  "kernelspec": {
   "display_name": "Python 3",
   "language": "python",
   "name": "python3"
  },
  "language_info": {
   "codemirror_mode": {
    "name": "ipython",
    "version": 3
   },
   "file_extension": ".py",
   "mimetype": "text/x-python",
   "name": "python",
   "nbconvert_exporter": "python",
   "pygments_lexer": "ipython3",
   "version": "3.7.3"
  }
 },
 "nbformat": 4,
 "nbformat_minor": 2
}
